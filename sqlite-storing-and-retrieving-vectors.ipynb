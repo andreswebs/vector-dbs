{
 "cells": [
  {
   "cell_type": "markdown",
   "id": "81bae94f",
   "metadata": {},
   "source": [
    "# SQLite DB: Storing and Retrieving Vectors"
   ]
  },
  {
   "cell_type": "code",
   "execution_count": 1,
   "id": "5125aaeb",
   "metadata": {},
   "outputs": [],
   "source": [
    "import sqlite3\n",
    "import numpy as np"
   ]
  },
  {
   "cell_type": "code",
   "execution_count": null,
   "id": "37381cf3",
   "metadata": {},
   "outputs": [],
   "source": [
    "# create a connection to the SQLite DB\n",
    "conn = sqlite3.connect('sqlite/vectors.db')\n",
    "# Create a cursor object to execute SQL Commands\n",
    "cursor = conn.cursor()"
   ]
  },
  {
   "cell_type": "code",
   "execution_count": 11,
   "id": "607f7f93",
   "metadata": {},
   "outputs": [
    {
     "data": {
      "text/plain": [
       "<sqlite3.Cursor at 0x11c0a6740>"
      ]
     },
     "execution_count": 11,
     "metadata": {},
     "output_type": "execute_result"
    }
   ],
   "source": [
    "# Create a table for vector data\n",
    "cursor.execute(\n",
    "\"\"\"\n",
    "CREATE TABLE IF NOT EXISTS vectors (\n",
    "    id INTEGER PRIMARY KEY,\n",
    "    vector BLOB NOT NULL\n",
    ")\n",
    "\"\"\"\n",
    ")"
   ]
  },
  {
   "cell_type": "code",
   "execution_count": 12,
   "id": "4ee35576",
   "metadata": {},
   "outputs": [],
   "source": [
    "# generate some sample vectors\n",
    "vect1 = np.array([1.2, 3.4, 2.1, 0.8])\n",
    "vect2 = np.array([2.7, 1.5, 3.9, 2.3])"
   ]
  },
  {
   "cell_type": "code",
   "execution_count": 13,
   "id": "87ca7c70",
   "metadata": {},
   "outputs": [
    {
     "data": {
      "text/plain": [
       "b'333333\\xf3?333333\\x0b@\\xcd\\xcc\\xcc\\xcc\\xcc\\xcc\\x00@\\x9a\\x99\\x99\\x99\\x99\\x99\\xe9?'"
      ]
     },
     "execution_count": 13,
     "metadata": {},
     "output_type": "execute_result"
    }
   ],
   "source": [
    "vect1.tobytes() # numpy array to bytestream"
   ]
  },
  {
   "cell_type": "code",
   "execution_count": 14,
   "id": "ce8931f3",
   "metadata": {},
   "outputs": [
    {
     "data": {
      "text/plain": [
       "<sqlite3.Cursor at 0x11c0a6740>"
      ]
     },
     "execution_count": 14,
     "metadata": {},
     "output_type": "execute_result"
    }
   ],
   "source": [
    "# Insert vector data into table\n",
    "cursor.execute(\"INSERT INTO vectors (vector) VALUES (?)\", \n",
    "               (sqlite3.Binary(vect1.tobytes()),))\n"
   ]
  },
  {
   "cell_type": "code",
   "execution_count": 15,
   "id": "c402dc58",
   "metadata": {},
   "outputs": [
    {
     "data": {
      "text/plain": [
       "<sqlite3.Cursor at 0x11c0a6740>"
      ]
     },
     "execution_count": 15,
     "metadata": {},
     "output_type": "execute_result"
    }
   ],
   "source": [
    "cursor.execute(\"INSERT INTO vectors (vector) VALUES (?)\", \n",
    "               (sqlite3.Binary(vect2.tobytes()),))"
   ]
  },
  {
   "cell_type": "code",
   "execution_count": 16,
   "id": "fec3b0de",
   "metadata": {},
   "outputs": [
    {
     "data": {
      "text/plain": [
       "<sqlite3.Cursor at 0x11c0a6740>"
      ]
     },
     "execution_count": 16,
     "metadata": {},
     "output_type": "execute_result"
    }
   ],
   "source": [
    "# Retreive data\n",
    "\n",
    "cursor.execute(\"SELECT vector FROM vectors\")"
   ]
  },
  {
   "cell_type": "code",
   "execution_count": 17,
   "id": "89105ae4",
   "metadata": {},
   "outputs": [],
   "source": [
    "rows = cursor.fetchall()"
   ]
  },
  {
   "cell_type": "code",
   "execution_count": 18,
   "id": "c3170e8f",
   "metadata": {},
   "outputs": [
    {
     "data": {
      "text/plain": [
       "[(b'333333\\xf3?333333\\x0b@\\xcd\\xcc\\xcc\\xcc\\xcc\\xcc\\x00@\\x9a\\x99\\x99\\x99\\x99\\x99\\xe9?',),\n",
       " (b'\\x9a\\x99\\x99\\x99\\x99\\x99\\x05@\\x00\\x00\\x00\\x00\\x00\\x00\\xf8?333333\\x0f@ffffff\\x02@',)]"
      ]
     },
     "execution_count": 18,
     "metadata": {},
     "output_type": "execute_result"
    }
   ],
   "source": [
    "rows"
   ]
  },
  {
   "cell_type": "code",
   "execution_count": 19,
   "id": "97908d99",
   "metadata": {},
   "outputs": [],
   "source": [
    "vector = np.frombuffer(rows[0][0], dtype = np.float64)"
   ]
  },
  {
   "cell_type": "code",
   "execution_count": 20,
   "id": "2edb54a1",
   "metadata": {},
   "outputs": [
    {
     "data": {
      "text/plain": [
       "array([1.2, 3.4, 2.1, 0.8])"
      ]
     },
     "execution_count": 20,
     "metadata": {},
     "output_type": "execute_result"
    }
   ],
   "source": [
    "vector"
   ]
  },
  {
   "cell_type": "code",
   "execution_count": 21,
   "id": "fd11daea",
   "metadata": {},
   "outputs": [],
   "source": [
    "vectors = []\n",
    "for row in rows:\n",
    "    vector = np.frombuffer(row[0], dtype = np.float64)\n",
    "    vectors.append(vector)"
   ]
  },
  {
   "cell_type": "code",
   "execution_count": 22,
   "id": "18258b9c",
   "metadata": {},
   "outputs": [
    {
     "data": {
      "text/plain": [
       "[array([1.2, 3.4, 2.1, 0.8]), array([2.7, 1.5, 3.9, 2.3])]"
      ]
     },
     "execution_count": 22,
     "metadata": {},
     "output_type": "execute_result"
    }
   ],
   "source": [
    "vectors"
   ]
  },
  {
   "cell_type": "markdown",
   "id": "7b94fe00",
   "metadata": {},
   "source": [
    "# Vector Similarity Search (VSS)"
   ]
  },
  {
   "cell_type": "code",
   "execution_count": 23,
   "id": "c1af65a1",
   "metadata": {},
   "outputs": [],
   "source": [
    "query_vect = np.array([1.0, 3.2, 2.0, 0.5]) "
   ]
  },
  {
   "cell_type": "code",
   "execution_count": 24,
   "id": "303a064d",
   "metadata": {},
   "outputs": [
    {
     "data": {
      "text/plain": [
       "<sqlite3.Cursor at 0x11c0a6740>"
      ]
     },
     "execution_count": 24,
     "metadata": {},
     "output_type": "execute_result"
    }
   ],
   "source": [
    "cursor.execute(\"\"\"\n",
    "SELECT vector FROM vectors ORDER BY abs(vector - ?) ASC\n",
    "\"\"\", (sqlite3.Binary(query_vect.tobytes()),))"
   ]
  },
  {
   "cell_type": "code",
   "execution_count": 25,
   "id": "cc0a82db",
   "metadata": {},
   "outputs": [],
   "source": [
    "res = cursor.fetchone()  # finding the top one"
   ]
  },
  {
   "cell_type": "code",
   "execution_count": 26,
   "id": "f0e3f843",
   "metadata": {},
   "outputs": [
    {
     "data": {
      "text/plain": [
       "array([2.7, 1.5, 3.9, 2.3])"
      ]
     },
     "execution_count": 26,
     "metadata": {},
     "output_type": "execute_result"
    }
   ],
   "source": [
    "np.frombuffer(res[0], dtype=np.float64) # most similar vector"
   ]
  },
  {
   "cell_type": "code",
   "execution_count": 27,
   "id": "1290f0e9",
   "metadata": {},
   "outputs": [],
   "source": [
    "conn.commit()"
   ]
  },
  {
   "cell_type": "code",
   "execution_count": 28,
   "id": "7f9a6b35",
   "metadata": {},
   "outputs": [],
   "source": [
    "conn.close()"
   ]
  },
  {
   "cell_type": "code",
   "execution_count": null,
   "id": "cd1cf934",
   "metadata": {},
   "outputs": [],
   "source": []
  }
 ],
 "metadata": {
  "kernelspec": {
   "display_name": ".venv",
   "language": "python",
   "name": "python3"
  },
  "language_info": {
   "codemirror_mode": {
    "name": "ipython",
    "version": 3
   },
   "file_extension": ".py",
   "mimetype": "text/x-python",
   "name": "python",
   "nbconvert_exporter": "python",
   "pygments_lexer": "ipython3",
   "version": "3.12.10"
  }
 },
 "nbformat": 4,
 "nbformat_minor": 5
}
