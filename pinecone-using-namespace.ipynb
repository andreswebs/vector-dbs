{
 "cells": [
  {
   "cell_type": "markdown",
   "id": "6e76633d",
   "metadata": {},
   "source": [
    "# Vector Partition Using Namespace"
   ]
  },
  {
   "cell_type": "code",
   "execution_count": null,
   "id": "2f335565",
   "metadata": {},
   "outputs": [],
   "source": [
    "import subprocess\n",
    "PINECONE_API_KEY = subprocess.check_output([\"direnv\", \"exec\", \".\", \"bash\", \"-c\", \"echo -n ${PINECONE_API_KEY}\"], text=True)"
   ]
  },
  {
   "cell_type": "code",
   "execution_count": null,
   "id": "4d13ef90",
   "metadata": {},
   "outputs": [],
   "source": [
    "from pinecone import Pinecone\n",
    "pc = Pinecone(api_key = PINECONE_API_KEY)"
   ]
  },
  {
   "cell_type": "code",
   "execution_count": null,
   "id": "f876abfc",
   "metadata": {},
   "outputs": [
    {
     "name": "stderr",
     "output_type": "stream",
     "text": [
      "C:\\Users\\VENOEN\\Pinecone5\\pc5_env\\Lib\\site-packages\\pinecone\\data\\index.py:1: TqdmWarning: IProgress not found. Please update jupyter and ipywidgets. See https://ipywidgets.readthedocs.io/en/stable/user_install.html\n",
      "  from tqdm.autonotebook import tqdm\n"
     ]
    }
   ],
   "source": [
    "idx = pc.Index(\"insert\") # connect to index"
   ]
  },
  {
   "cell_type": "code",
   "execution_count": 5,
   "id": "17cdc3a9",
   "metadata": {},
   "outputs": [],
   "source": [
    "# count of emails\n",
    "dimensions = 3 # index dimension\n",
    "\n",
    "emails_with_subject = 20\n",
    "emails_with_body = 45\n",
    "emails_with_other = 45"
   ]
  },
  {
   "cell_type": "markdown",
   "id": "b00da918",
   "metadata": {},
   "source": [
    "### Upsert"
   ]
  },
  {
   "cell_type": "code",
   "execution_count": 6,
   "id": "28ad316b-79b8-4d62-9802-e8add4f809d7",
   "metadata": {},
   "outputs": [],
   "source": [
    "import numpy as np"
   ]
  },
  {
   "cell_type": "code",
   "execution_count": 9,
   "id": "dd73411f",
   "metadata": {},
   "outputs": [
    {
     "data": {
      "text/plain": [
       "{'upserted_count': 45}"
      ]
     },
     "execution_count": 9,
     "metadata": {},
     "output_type": "execute_result"
    }
   ],
   "source": [
    "# create vectors, assume embedded\n",
    "# python list of lists\n",
    "vects_subj= np.random.rand(emails_with_subject, dimensions).tolist()\n",
    "vects_body= np.random.rand(emails_with_body, dimensions).tolist() \n",
    "vects_other= np.random.rand(emails_with_other, dimensions).tolist() \n",
    "\n",
    "# create ids for these vectors ,IDs are string\n",
    "\n",
    "ids_subj = map(str, np.arange(emails_with_subject).tolist())\n",
    "ids_body = map(str, np.arange(emails_with_body).tolist())\n",
    "ids_other = map(str, np.arange(emails_with_other).tolist())\n",
    "\n",
    "# zip id and vector\n",
    "vectors_subj = list(zip(ids_subj, vects_subj)) # list of tuples (id, values)\n",
    "vectors_body = list(zip(ids_body, vects_body) )\n",
    "vectors_other = list(zip(ids_other, vects_other))\n",
    "\n",
    "\n",
    "# upsert vectors into index with different namespace\n",
    "\n",
    "idx.upsert(vectors_subj, namespace='subject')\n",
    "idx.upsert(vectors_body, namespace='body')\n",
    "idx.upsert(vectors_other) # default namespace is \"\""
   ]
  },
  {
   "cell_type": "markdown",
   "id": "92a5bb0f",
   "metadata": {},
   "source": [
    "### Query"
   ]
  },
  {
   "cell_type": "code",
   "execution_count": 10,
   "id": "805c868f",
   "metadata": {},
   "outputs": [
    {
     "data": {
      "text/plain": [
       "{'matches': [{'id': '26',\n",
       "              'score': 0.999655485,\n",
       "              'values': [0.893857181, 0.490591437, 0.930496931]},\n",
       "             {'id': '3',\n",
       "              'score': 0.999513686,\n",
       "              'values': [0.88356185, 0.514331579, 0.95760417]},\n",
       "             {'id': '20',\n",
       "              'score': 0.998717487,\n",
       "              'values': [0.788190603, 0.490408182, 0.880566716]}],\n",
       " 'namespace': '',\n",
       " 'usage': {'read_units': 6}}"
      ]
     },
     "execution_count": 10,
     "metadata": {},
     "output_type": "execute_result"
    }
   ],
   "source": [
    "idx.query(vector = list(np.random.rand(3)), \n",
    "          top_k=3, \n",
    "          namespace='', \n",
    "          include_values=True)"
   ]
  },
  {
   "cell_type": "markdown",
   "id": "a8513d13",
   "metadata": {},
   "source": [
    "### Update and Fetch"
   ]
  },
  {
   "cell_type": "code",
   "execution_count": 11,
   "id": "b3b04d14",
   "metadata": {},
   "outputs": [
    {
     "data": {
      "text/plain": [
       "('44', [0.37197518045529443, 0.30628789659583133, 0.9388183480600835])"
      ]
     },
     "execution_count": 11,
     "metadata": {},
     "output_type": "execute_result"
    }
   ],
   "source": [
    "vectors_other[44]  # current value"
   ]
  },
  {
   "cell_type": "code",
   "execution_count": 12,
   "id": "c731bcca",
   "metadata": {},
   "outputs": [],
   "source": [
    "new_value = [0.1, 0.1, 0.1]"
   ]
  },
  {
   "cell_type": "code",
   "execution_count": 13,
   "id": "2e76e351",
   "metadata": {},
   "outputs": [
    {
     "data": {
      "text/plain": [
       "{}"
      ]
     },
     "execution_count": 13,
     "metadata": {},
     "output_type": "execute_result"
    }
   ],
   "source": [
    "idx.update(id = '44', \n",
    "          values= new_value,\n",
    "          namespace = '')"
   ]
  },
  {
   "cell_type": "code",
   "execution_count": 14,
   "id": "30a17fdf",
   "metadata": {},
   "outputs": [
    {
     "data": {
      "text/plain": [
       "{'namespace': '',\n",
       " 'usage': {'read_units': 1},\n",
       " 'vectors': {'44': {'id': '44', 'values': [0.1, 0.1, 0.1]}}}"
      ]
     },
     "execution_count": 14,
     "metadata": {},
     "output_type": "execute_result"
    }
   ],
   "source": [
    "idx.fetch(ids = ['44'], namespace = '')"
   ]
  },
  {
   "cell_type": "markdown",
   "id": "f55a5acf",
   "metadata": {},
   "source": [
    "### Delete"
   ]
  },
  {
   "cell_type": "code",
   "execution_count": 15,
   "id": "61f0d5e9",
   "metadata": {},
   "outputs": [
    {
     "data": {
      "text/plain": [
       "{}"
      ]
     },
     "execution_count": 15,
     "metadata": {},
     "output_type": "execute_result"
    }
   ],
   "source": [
    "idx.delete(ids = ['0', '1'], namespace='subject')"
   ]
  },
  {
   "cell_type": "code",
   "execution_count": 16,
   "id": "1c2fca87",
   "metadata": {},
   "outputs": [
    {
     "data": {
      "text/plain": [
       "{}"
      ]
     },
     "execution_count": 16,
     "metadata": {},
     "output_type": "execute_result"
    }
   ],
   "source": [
    "idx.delete(ids = ['0', '1', '2'], namespace='body')"
   ]
  },
  {
   "cell_type": "code",
   "execution_count": 17,
   "id": "ce710326",
   "metadata": {},
   "outputs": [
    {
     "data": {
      "text/plain": [
       "{}"
      ]
     },
     "execution_count": 17,
     "metadata": {},
     "output_type": "execute_result"
    }
   ],
   "source": [
    "idx.delete(delete_all=True) # deleted vector without namespace"
   ]
  },
  {
   "cell_type": "code",
   "execution_count": 18,
   "id": "db2d3c46",
   "metadata": {},
   "outputs": [
    {
     "data": {
      "text/plain": [
       "{}"
      ]
     },
     "execution_count": 18,
     "metadata": {},
     "output_type": "execute_result"
    }
   ],
   "source": [
    "idx.delete(delete_all=True, namespace='body')"
   ]
  },
  {
   "cell_type": "code",
   "execution_count": null,
   "id": "941488b9",
   "metadata": {},
   "outputs": [],
   "source": []
  },
  {
   "cell_type": "code",
   "execution_count": null,
   "id": "575f8c09-a51b-4939-a26e-34221d89bae6",
   "metadata": {},
   "outputs": [],
   "source": []
  }
 ],
 "metadata": {
  "kernelspec": {
   "display_name": "Python 3 (ipykernel)",
   "language": "python",
   "name": "python3"
  },
  "language_info": {
   "codemirror_mode": {
    "name": "ipython",
    "version": 3
   },
   "file_extension": ".py",
   "mimetype": "text/x-python",
   "name": "python",
   "nbconvert_exporter": "python",
   "pygments_lexer": "ipython3",
   "version": "3.12.7"
  }
 },
 "nbformat": 4,
 "nbformat_minor": 5
}
