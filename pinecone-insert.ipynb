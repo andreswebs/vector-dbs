{
 "cells": [
  {
   "cell_type": "code",
   "execution_count": 1,
   "id": "3e001939-9d49-4770-ba65-faa6355d7fc7",
   "metadata": {},
   "outputs": [],
   "source": [
    "# this notebook is based on Pinecone v-5.0.0 and Python3.12.7"
   ]
  },
  {
   "cell_type": "code",
   "execution_count": 1,
   "id": "950557f1-5cb7-4060-8b8b-171b6d72d56c",
   "metadata": {},
   "outputs": [
    {
     "name": "stderr",
     "output_type": "stream",
     "text": [
      "direnv: loading ~/Programs/studies/vector-dbs/.envrc\n"
     ]
    }
   ],
   "source": [
    "import subprocess\n",
    "PINECONE_API_KEY = subprocess.check_output([\"direnv\", \"exec\", \".\", \"bash\", \"-c\", \"echo -n ${PINECONE_API_KEY}\"], text=True)"
   ]
  },
  {
   "cell_type": "code",
   "execution_count": 2,
   "id": "4a90f944-204f-41c3-8234-c565f2417887",
   "metadata": {},
   "outputs": [],
   "source": [
    "from pinecone import Pinecone, ServerlessSpec\n",
    "pc = Pinecone(api_key = PINECONE_API_KEY)"
   ]
  },
  {
   "cell_type": "code",
   "execution_count": 3,
   "id": "f9cd492a-866f-4d2a-b413-e35acd404868",
   "metadata": {},
   "outputs": [
    {
     "data": {
      "text/plain": [
       "{\n",
       "    \"name\": \"insert\",\n",
       "    \"metric\": \"cosine\",\n",
       "    \"host\": \"insert-82j0r86.svc.aped-4627-b74a.pinecone.io\",\n",
       "    \"spec\": {\n",
       "        \"serverless\": {\n",
       "            \"cloud\": \"aws\",\n",
       "            \"region\": \"us-east-1\"\n",
       "        }\n",
       "    },\n",
       "    \"status\": {\n",
       "        \"ready\": true,\n",
       "        \"state\": \"Ready\"\n",
       "    },\n",
       "    \"vector_type\": \"dense\",\n",
       "    \"dimension\": 3,\n",
       "    \"deletion_protection\": \"disabled\",\n",
       "    \"tags\": null\n",
       "}"
      ]
     },
     "execution_count": 3,
     "metadata": {},
     "output_type": "execute_result"
    }
   ],
   "source": [
    "# index creation\n",
    "pc.create_index(name=\"insert\", dimension=3, spec=ServerlessSpec(\n",
    "    cloud=\"aws\",\n",
    "    region=\"us-east-1\"\n",
    "))"
   ]
  },
  {
   "cell_type": "code",
   "execution_count": 4,
   "id": "9dfd78cc-c261-4c5c-88ba-a3e9bc7d9a87",
   "metadata": {},
   "outputs": [],
   "source": [
    "# upsert\n",
    "idx = pc.Index(\"insert\")"
   ]
  },
  {
   "cell_type": "code",
   "execution_count": 5,
   "id": "ef2a7d75-5eac-44c6-b944-a6e04d5476fe",
   "metadata": {},
   "outputs": [
    {
     "data": {
      "text/plain": [
       "[\n",
       "    {\n",
       "        \"name\": \"insert\",\n",
       "        \"metric\": \"cosine\",\n",
       "        \"host\": \"insert-82j0r86.svc.aped-4627-b74a.pinecone.io\",\n",
       "        \"spec\": {\n",
       "            \"serverless\": {\n",
       "                \"cloud\": \"aws\",\n",
       "                \"region\": \"us-east-1\"\n",
       "            }\n",
       "        },\n",
       "        \"status\": {\n",
       "            \"ready\": true,\n",
       "            \"state\": \"Ready\"\n",
       "        },\n",
       "        \"vector_type\": \"dense\",\n",
       "        \"dimension\": 3,\n",
       "        \"deletion_protection\": \"disabled\",\n",
       "        \"tags\": null\n",
       "    },\n",
       "    {\n",
       "        \"name\": \"test\",\n",
       "        \"metric\": \"cosine\",\n",
       "        \"host\": \"test-82j0r86.svc.aped-4627-b74a.pinecone.io\",\n",
       "        \"spec\": {\n",
       "            \"serverless\": {\n",
       "                \"cloud\": \"aws\",\n",
       "                \"region\": \"us-east-1\"\n",
       "            }\n",
       "        },\n",
       "        \"status\": {\n",
       "            \"ready\": true,\n",
       "            \"state\": \"Ready\"\n",
       "        },\n",
       "        \"vector_type\": \"dense\",\n",
       "        \"dimension\": 3,\n",
       "        \"deletion_protection\": \"disabled\",\n",
       "        \"tags\": null\n",
       "    }\n",
       "]"
      ]
     },
     "execution_count": 5,
     "metadata": {},
     "output_type": "execute_result"
    }
   ],
   "source": [
    "pc.list_indexes()"
   ]
  },
  {
   "cell_type": "code",
   "execution_count": 6,
   "id": "7bc2ca22-e04a-4656-8f08-9754bf82268f",
   "metadata": {},
   "outputs": [],
   "source": [
    "data = [('vec1', [1.0, 2.0, 3.0]), ('vec2', [11.0, 12.0, 13.0]), ('vec3', [31.0, 32.0, 33.0])]"
   ]
  },
  {
   "cell_type": "code",
   "execution_count": 7,
   "id": "e9c4381e-02a2-4383-b9b5-305b38bb2510",
   "metadata": {},
   "outputs": [
    {
     "data": {
      "text/plain": [
       "{'upserted_count': 3}"
      ]
     },
     "execution_count": 7,
     "metadata": {},
     "output_type": "execute_result"
    }
   ],
   "source": [
    "idx.upsert(data)"
   ]
  },
  {
   "cell_type": "code",
   "execution_count": null,
   "id": "96a24c8a-990c-411c-993f-3be430f84993",
   "metadata": {},
   "outputs": [],
   "source": []
  }
 ],
 "metadata": {
  "kernelspec": {
   "display_name": ".venv",
   "language": "python",
   "name": "python3"
  },
  "language_info": {
   "codemirror_mode": {
    "name": "ipython",
    "version": 3
   },
   "file_extension": ".py",
   "mimetype": "text/x-python",
   "name": "python",
   "nbconvert_exporter": "python",
   "pygments_lexer": "ipython3",
   "version": "3.12.10"
  }
 },
 "nbformat": 4,
 "nbformat_minor": 5
}
