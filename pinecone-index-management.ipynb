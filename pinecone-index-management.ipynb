{
 "cells": [
  {
   "cell_type": "markdown",
   "id": "a7da643e",
   "metadata": {},
   "source": [
    "# Index Management"
   ]
  },
  {
   "cell_type": "markdown",
   "id": "44df2534",
   "metadata": {
    "scrolled": true
   },
   "source": [
    "1. Create Index \n",
    "2. Retrieve list of database indexes.\n",
    "3. Connect to a index\n",
    "4. Describe index\n",
    "5. Delete a index   "
   ]
  },
  {
   "cell_type": "code",
   "execution_count": 2,
   "id": "15162e8d",
   "metadata": {
    "scrolled": false
   },
   "outputs": [
    {
     "name": "stderr",
     "output_type": "stream",
     "text": [
      "direnv: loading ~/Programs/studies/vector-dbs/.envrc\n"
     ]
    }
   ],
   "source": [
    "import subprocess\n",
    "PINECONE_API_KEY = subprocess.check_output([\"direnv\", \"exec\", \".\", \"bash\", \"-c\", \"echo -n ${PINECONE_API_KEY}\"], text=True)"
   ]
  },
  {
   "cell_type": "code",
   "execution_count": 8,
   "id": "46749d96",
   "metadata": {},
   "outputs": [],
   "source": [
    "from pinecone import Pinecone, ServerlessSpec\n",
    "pc = Pinecone(api_key = PINECONE_API_KEY)"
   ]
  },
  {
   "cell_type": "code",
   "execution_count": null,
   "id": "edc681fd",
   "metadata": {},
   "outputs": [],
   "source": []
  },
  {
   "cell_type": "markdown",
   "id": "693f2c2b",
   "metadata": {},
   "source": [
    "#### 1. Create Index"
   ]
  },
  {
   "cell_type": "code",
   "execution_count": 10,
   "id": "2e312b55",
   "metadata": {},
   "outputs": [
    {
     "data": {
      "text/plain": [
       "{\n",
       "    \"name\": \"test-2\",\n",
       "    \"metric\": \"dotproduct\",\n",
       "    \"host\": \"test-2-82j0r86.svc.aped-4627-b74a.pinecone.io\",\n",
       "    \"spec\": {\n",
       "        \"serverless\": {\n",
       "            \"cloud\": \"aws\",\n",
       "            \"region\": \"us-east-1\"\n",
       "        }\n",
       "    },\n",
       "    \"status\": {\n",
       "        \"ready\": true,\n",
       "        \"state\": \"Ready\"\n",
       "    },\n",
       "    \"vector_type\": \"dense\",\n",
       "    \"dimension\": 3,\n",
       "    \"deletion_protection\": \"disabled\",\n",
       "    \"tags\": null\n",
       "}"
      ]
     },
     "execution_count": 10,
     "metadata": {},
     "output_type": "execute_result"
    }
   ],
   "source": [
    "pc.create_index(\"test-2\", dimension=3, metric=\"dotproduct\", spec=ServerlessSpec(cloud=\"aws\", region=\"us-east-1\"))\n",
    "\n"
   ]
  },
  {
   "cell_type": "markdown",
   "id": "26017870",
   "metadata": {
    "scrolled": true
   },
   "source": [
    "<!-- #     (\"A\", [0.1, 0.1, 0.1, 0.1, 0.1, 0.1, 0.1, 0.1]),\n",
    "#     (\"B\", [0.2, 0.2, 0.2, 0.2, 0.2, 0.2, 0.2, 0.2]),\n",
    "#     (\"C\", [0.3, 0.3, 0.3, 0.3, 0.3, 0.3, 0.3, 0.3]),\n",
    "#     (\"D\", [0.4, 0.4, 0.4, 0.4, 0.4, 0.4, 0.4, 0.4]),\n",
    "#     (\"E\", [0.5, 0.5, 0.5, 0.5, 0.5, 0.5, 0.5, 0.5]) -->"
   ]
  },
  {
   "cell_type": "markdown",
   "id": "64575c8a",
   "metadata": {},
   "source": [
    "#### 2. Retrieve list of database indexes."
   ]
  },
  {
   "cell_type": "code",
   "execution_count": 11,
   "id": "13152825",
   "metadata": {},
   "outputs": [
    {
     "data": {
      "text/plain": [
       "[\n",
       "    {\n",
       "        \"name\": \"insert\",\n",
       "        \"metric\": \"cosine\",\n",
       "        \"host\": \"insert-82j0r86.svc.aped-4627-b74a.pinecone.io\",\n",
       "        \"spec\": {\n",
       "            \"serverless\": {\n",
       "                \"cloud\": \"aws\",\n",
       "                \"region\": \"us-east-1\"\n",
       "            }\n",
       "        },\n",
       "        \"status\": {\n",
       "            \"ready\": true,\n",
       "            \"state\": \"Ready\"\n",
       "        },\n",
       "        \"vector_type\": \"dense\",\n",
       "        \"dimension\": 3,\n",
       "        \"deletion_protection\": \"disabled\",\n",
       "        \"tags\": null\n",
       "    },\n",
       "    {\n",
       "        \"name\": \"test-2\",\n",
       "        \"metric\": \"dotproduct\",\n",
       "        \"host\": \"test-2-82j0r86.svc.aped-4627-b74a.pinecone.io\",\n",
       "        \"spec\": {\n",
       "            \"serverless\": {\n",
       "                \"cloud\": \"aws\",\n",
       "                \"region\": \"us-east-1\"\n",
       "            }\n",
       "        },\n",
       "        \"status\": {\n",
       "            \"ready\": true,\n",
       "            \"state\": \"Ready\"\n",
       "        },\n",
       "        \"vector_type\": \"dense\",\n",
       "        \"dimension\": 3,\n",
       "        \"deletion_protection\": \"disabled\",\n",
       "        \"tags\": null\n",
       "    },\n",
       "    {\n",
       "        \"name\": \"test\",\n",
       "        \"metric\": \"cosine\",\n",
       "        \"host\": \"test-82j0r86.svc.aped-4627-b74a.pinecone.io\",\n",
       "        \"spec\": {\n",
       "            \"serverless\": {\n",
       "                \"cloud\": \"aws\",\n",
       "                \"region\": \"us-east-1\"\n",
       "            }\n",
       "        },\n",
       "        \"status\": {\n",
       "            \"ready\": true,\n",
       "            \"state\": \"Ready\"\n",
       "        },\n",
       "        \"vector_type\": \"dense\",\n",
       "        \"dimension\": 3,\n",
       "        \"deletion_protection\": \"disabled\",\n",
       "        \"tags\": null\n",
       "    }\n",
       "]"
      ]
     },
     "execution_count": 11,
     "metadata": {},
     "output_type": "execute_result"
    }
   ],
   "source": [
    "pc.list_indexes()"
   ]
  },
  {
   "cell_type": "markdown",
   "id": "73cf864a",
   "metadata": {},
   "source": [
    "#### 3. Connect to a index"
   ]
  },
  {
   "cell_type": "code",
   "execution_count": 12,
   "id": "bb86facd",
   "metadata": {},
   "outputs": [],
   "source": [
    "idx = pc.Index('test-2')"
   ]
  },
  {
   "cell_type": "markdown",
   "id": "434f57e6",
   "metadata": {},
   "source": [
    "#### 4. Describe index"
   ]
  },
  {
   "cell_type": "code",
   "execution_count": 13,
   "id": "4ef4cc9c",
   "metadata": {},
   "outputs": [],
   "source": [
    "description = pc.describe_index('test-2') # response "
   ]
  },
  {
   "cell_type": "code",
   "execution_count": 14,
   "id": "9bf94634",
   "metadata": {},
   "outputs": [
    {
     "name": "stdout",
     "output_type": "stream",
     "text": [
      "Index ready\n"
     ]
    }
   ],
   "source": [
    "if (description.status['state'] == 'Ready') :\n",
    "    print('Index ready')\n",
    "else: \n",
    "    print('Index not ready')"
   ]
  },
  {
   "cell_type": "code",
   "execution_count": 15,
   "id": "c3534869",
   "metadata": {},
   "outputs": [
    {
     "data": {
      "text/plain": [
       "3"
      ]
     },
     "execution_count": 15,
     "metadata": {},
     "output_type": "execute_result"
    }
   ],
   "source": [
    "description.dimension"
   ]
  },
  {
   "cell_type": "code",
   "execution_count": null,
   "id": "27311ec3",
   "metadata": {},
   "outputs": [
    {
     "name": "stdout",
     "output_type": "stream",
     "text": [
      "{'deletion_protection': 'disabled',\n",
      " 'dimension': 3,\n",
      " 'host': 'test-2-82j0r86.svc.aped-4627-b74a.pinecone.io',\n",
      " 'metric': 'dotproduct',\n",
      " 'name': 'test-2',\n",
      " 'spec': {'serverless': {'cloud': 'aws', 'region': 'us-east-1'}},\n",
      " 'status': {'ready': True, 'state': 'Ready'},\n",
      " 'tags': None,\n",
      " 'vector_type': 'dense'}\n"
     ]
    }
   ],
   "source": [
    "pod_type = description\n",
    "print(description)\n"
   ]
  },
  {
   "cell_type": "markdown",
   "id": "64d6b8ab",
   "metadata": {},
   "source": [
    "#### 5. Delete a index  "
   ]
  },
  {
   "cell_type": "code",
   "execution_count": null,
   "id": "ee49c4b4",
   "metadata": {},
   "outputs": [],
   "source": [
    "# pc.delete_index(\"test\")\n",
    "# pc.delete_index(\"test-2\")\n",
    "# pc.delete_index(\"insert\")"
   ]
  },
  {
   "cell_type": "code",
   "execution_count": null,
   "id": "613074c0",
   "metadata": {},
   "outputs": [],
   "source": []
  }
 ],
 "metadata": {
  "kernelspec": {
   "display_name": ".venv",
   "language": "python",
   "name": "python3"
  },
  "language_info": {
   "codemirror_mode": {
    "name": "ipython",
    "version": 3
   },
   "file_extension": ".py",
   "mimetype": "text/x-python",
   "name": "python",
   "nbconvert_exporter": "python",
   "pygments_lexer": "ipython3",
   "version": "3.12.10"
  }
 },
 "nbformat": 4,
 "nbformat_minor": 5
}
