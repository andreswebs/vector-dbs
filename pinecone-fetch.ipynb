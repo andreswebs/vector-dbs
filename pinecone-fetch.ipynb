{
 "cells": [
  {
   "cell_type": "markdown",
   "id": "a7da643e",
   "metadata": {},
   "source": [
    "# Fetch Vector by ID"
   ]
  },
  {
   "cell_type": "code",
   "execution_count": 1,
   "id": "ced2edc8",
   "metadata": {},
   "outputs": [
    {
     "name": "stderr",
     "output_type": "stream",
     "text": [
      "direnv: loading ~/Programs/studies/vector-dbs/.envrc\n"
     ]
    }
   ],
   "source": [
    "import subprocess\n",
    "PINECONE_API_KEY = subprocess.check_output([\"direnv\", \"exec\", \".\", \"bash\", \"-c\", \"echo -n ${PINECONE_API_KEY}\"], text=True)"
   ]
  },
  {
   "cell_type": "code",
   "execution_count": 2,
   "id": "15162e8d",
   "metadata": {
    "scrolled": true
   },
   "outputs": [],
   "source": [
    "from pinecone import Pinecone \n",
    "pc = Pinecone(api_key = PINECONE_API_KEY)"
   ]
  },
  {
   "cell_type": "code",
   "execution_count": null,
   "id": "62e31735",
   "metadata": {},
   "outputs": [],
   "source": [
    "# from tqdm.autonotebook import tqdm"
   ]
  },
  {
   "cell_type": "code",
   "execution_count": 3,
   "id": "1cbdf71a",
   "metadata": {},
   "outputs": [],
   "source": [
    "idx = pc.Index('test') # index obj"
   ]
  },
  {
   "cell_type": "markdown",
   "id": "44df2534",
   "metadata": {
    "scrolled": true
   },
   "source": [
    "###### 1. Fetch a vector\n",
    "    \n",
    "###### 2. Fetch a list of vectors"
   ]
  },
  {
   "cell_type": "code",
   "execution_count": 4,
   "id": "d5c707b3",
   "metadata": {},
   "outputs": [
    {
     "data": {
      "text/plain": [
       "FetchResponse(namespace='', vectors={}, usage=None)"
      ]
     },
     "execution_count": 4,
     "metadata": {},
     "output_type": "execute_result"
    }
   ],
   "source": [
    "idx.fetch(ids=[\"vec1\", \"vec2\"])"
   ]
  },
  {
   "cell_type": "code",
   "execution_count": null,
   "id": "c017de9d",
   "metadata": {},
   "outputs": [],
   "source": []
  },
  {
   "cell_type": "code",
   "execution_count": null,
   "id": "d425963b-fcba-499a-b4c6-55f6d5fe14c4",
   "metadata": {},
   "outputs": [],
   "source": []
  }
 ],
 "metadata": {
  "kernelspec": {
   "display_name": ".venv",
   "language": "python",
   "name": "python3"
  },
  "language_info": {
   "codemirror_mode": {
    "name": "ipython",
    "version": 3
   },
   "file_extension": ".py",
   "mimetype": "text/x-python",
   "name": "python",
   "nbconvert_exporter": "python",
   "pygments_lexer": "ipython3",
   "version": "3.12.10"
  }
 },
 "nbformat": 4,
 "nbformat_minor": 5
}
